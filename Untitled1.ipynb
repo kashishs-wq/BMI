{
 "cells": [
  {
   "cell_type": "code",
   "execution_count": null,
   "id": "6c2c6c6e",
   "metadata": {},
   "outputs": [],
   "source": [
    "weight=float(input(\"Enter your weight in kgs - \"))\n",
    "height=float(input(\"Enter your height in mtrs - \"))\n",
    "bmi=weight/ (height**2)\n",
    "print(\"bmi is\", bmi)\n",
    "if bmi<=18.5 :\n",
    "    print(\"Underweight\")\n",
    "elif bmi<=24.9 :\n",
    "    print(\"Normal\")\n",
    "elif bmi<=29.9 :\n",
    "    print(\"Overweight\")\n",
    "else :\n",
    "     print(\"Obese\")"
   ]
  },
  {
   "cell_type": "code",
   "execution_count": null,
   "id": "fd7273e9",
   "metadata": {},
   "outputs": [],
   "source": [
    "weight=float(input(\"Enter your weight in kgs - \"))\n",
    "height=float(input(\"Enter your height in mtrs - \"))\n",
    "bmi=weight/ (height**2)\n",
    "print(\"bmi is\", bmi)\n",
    "if bmi>25 :\n",
    "    print(\"Overweight\")\n",
    "elif bmi<=29.9 :\n",
    "    print(\"overweight\")\n",
    "else:\n",
    "    print(\"nothing\")"
   ]
  }
 ],
 "metadata": {
  "kernelspec": {
   "display_name": "Python 3 (ipykernel)",
   "language": "python",
   "name": "python3"
  },
  "language_info": {
   "codemirror_mode": {
    "name": "ipython",
    "version": 3
   },
   "file_extension": ".py",
   "mimetype": "text/x-python",
   "name": "python",
   "nbconvert_exporter": "python",
   "pygments_lexer": "ipython3",
   "version": "3.9.7"
  }
 },
 "nbformat": 4,
 "nbformat_minor": 5
}
